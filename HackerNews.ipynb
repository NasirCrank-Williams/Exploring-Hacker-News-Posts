{
 "cells": [
  {
   "cell_type": "markdown",
   "metadata": {
    "collapsed": true
   },
   "source": [
    "# Determining The Best Posts To Make On Hacker News\n",
    "\n",
    "Hacker News is a site started by the startup incubator Y Combinator, where user-submitted stories (known as \"posts\") are voted and commented upon, similar to reddit. Hacker News is extremely popular in technology and startup circles, and posts that make it to the top of Hacker News' listings can get hundreds of thousands of visitors as a result.\n",
    "\n",
    "We should make use of Hacker News's extreme popularity by discovering the types of posts that receive the most comments and then discover the optimal time of day to post. As a result, every post we make in the future will have a greater chance of ranking high on the Hacker News's listings."
   ]
  },
  {
   "cell_type": "code",
   "execution_count": 1,
   "metadata": {
    "collapsed": false
   },
   "outputs": [],
   "source": [
    "# Read in the data.\n",
    "import csv\n",
    "\n",
    "with open(\"hacker_news.csv\") as f:\n",
    "    reader = csv.reader(f)\n",
    "    hn = list(reader)"
   ]
  },
  {
   "cell_type": "code",
   "execution_count": 2,
   "metadata": {
    "collapsed": false
   },
   "outputs": [],
   "source": [
    "# Remove 1st row from data and save it into headers.\n",
    "headers = hn[0]\n",
    "del hn[0]"
   ]
  },
  {
   "cell_type": "code",
   "execution_count": 3,
   "metadata": {
    "collapsed": false
   },
   "outputs": [],
   "source": [
    "# Filter posts starting with \"Ask HN\" or \"Show HN\" \n",
    "ask_posts = []\n",
    "show_posts = []\n",
    "other_posts = []\n",
    "\n",
    "for row in hn:\n",
    "    title = row[1].lower()\n",
    "    \n",
    "    if title.startswith(\"ask hn\"):\n",
    "        ask_posts.append(row)\n",
    "    elif title.startswith(\"show hn\"):\n",
    "        show_posts.append(row)\n",
    "    else:\n",
    "        other_posts.append(row)"
   ]
  },
  {
   "cell_type": "code",
   "execution_count": 4,
   "metadata": {
    "collapsed": false
   },
   "outputs": [
    {
     "name": "stdout",
     "output_type": "stream",
     "text": [
      "14.038417431192661\n"
     ]
    }
   ],
   "source": [
    "# Compute the average number of comments \"Ask HN\" posts recieve.\n",
    "total_ask_comments = 0\n",
    "\n",
    "for post in ask_posts:\n",
    "    num_comments = int(post[4])\n",
    "    total_ask_comments += num_comments\n",
    "    \n",
    "avg_ask_comments = total_ask_comments / len(ask_posts)\n",
    "print(avg_ask_comments)"
   ]
  },
  {
   "cell_type": "code",
   "execution_count": 5,
   "metadata": {
    "collapsed": false
   },
   "outputs": [
    {
     "name": "stdout",
     "output_type": "stream",
     "text": [
      "10.31669535283993\n"
     ]
    }
   ],
   "source": [
    "# Compute the average number of comments \"Show HN\" posts recieve.\n",
    "total_show_comments = 0\n",
    "\n",
    "for post in show_posts:\n",
    "    num_comments = int(post[4])\n",
    "    total_show_comments += num_comments\n",
    "    \n",
    "avg_show_comments = total_show_comments / len(show_posts)\n",
    "print(avg_show_comments)"
   ]
  },
  {
   "cell_type": "markdown",
   "metadata": {},
   "source": [
    "\"Ask HN\" posts recieve more comments on average than \"Show HN\" posts. Because of this, we will only analyze \"Ask HN\" posts from here on out."
   ]
  },
  {
   "cell_type": "code",
   "execution_count": 6,
   "metadata": {
    "collapsed": true
   },
   "outputs": [],
   "source": [
    "# Import the datetime module.\n",
    "import datetime as dt"
   ]
  },
  {
   "cell_type": "code",
   "execution_count": 7,
   "metadata": {
    "collapsed": false
   },
   "outputs": [],
   "source": [
    "# Create a list of lists from posts in ask_posts. \n",
    "# [[Date and Time, Number of Comments]]\n",
    "result_list = []\n",
    "\n",
    "for post in ask_posts:\n",
    "    num_comments = int(post[4])\n",
    "    datetime_created = post[6]\n",
    "    result_list.append([datetime_created, num_comments])\n",
    "# For each hour in result_list, find the number of posts and comments\n",
    "# made for that hour.\n",
    "# {Hour: Count}\n",
    "counts_by_hour = {}\n",
    "comments_by_hour = {}\n",
    "\n",
    "for result in result_list:\n",
    "    date = dt.datetime.strptime(result[0], \"%m/%d/%Y %H:%S\")\n",
    "    hour = date.strftime(\"%H\")\n",
    "    \n",
    "    if hour not in counts_by_hour:\n",
    "        counts_by_hour[hour] = 1\n",
    "        comments_by_hour[hour] = result[1]\n",
    "    else:\n",
    "        counts_by_hour[hour] += 1\n",
    "        comments_by_hour[hour] += result[1]\n",
    "# Calculate the average number of comments for posts created for\n",
    "# each hour.\n",
    "# [[Hour, Average Number of Comments]]\n",
    "avg_by_hour = []\n",
    "\n",
    "for hour in counts_by_hour:\n",
    "    post_count = counts_by_hour[hour]\n",
    "    comment_count = comments_by_hour[hour]\n",
    "    \n",
    "    avg_comments = comment_count / post_count\n",
    "    avg_by_hour.append([hour, avg_comments])"
   ]
  },
  {
   "cell_type": "code",
   "execution_count": 8,
   "metadata": {
    "collapsed": false
   },
   "outputs": [
    {
     "name": "stdout",
     "output_type": "stream",
     "text": [
      "Top 5 Hours for Ask Posts Comments\n",
      "\n",
      "15:00: 38.59 average comments per post\n",
      "\n",
      "02:00: 23.81 average comments per post\n",
      "\n",
      "20:00: 21.52 average comments per post\n",
      "\n",
      "16:00: 16.80 average comments per post\n",
      "\n",
      "21:00: 16.01 average comments per post\n",
      "\n"
     ]
    }
   ],
   "source": [
    "# Swap the columns of each row in avg_by_hour.\n",
    "swap_avg_by_hour = []\n",
    "\n",
    "for row in avg_by_hour:\n",
    "    swap_avg_by_hour.append([row[1], row[0]])\n",
    "# Sort the lists by avg comments in descending order.\n",
    "sorted_swap = sorted(swap_avg_by_hour, reverse=True)\n",
    "\n",
    "print(\"Top 5 Hours for Ask Posts Comments\\n\")\n",
    "# Print the first five row in the following format:\n",
    "# \"Hour:Second 00.00 average comments per post\"\n",
    "for row in sorted_swap[:5]:\n",
    "    output = \"{}: {:.2f} average comments per post\"\n",
    "    date_obj = dt.datetime.strptime(row[1], \"%H\")\n",
    "    hour = date_obj.strftime(\"%H:%S\")\n",
    "    output_formatted = output.format(hour, row[0])\n",
    "    print(output_formatted + \"\\n\")"
   ]
  },
  {
   "cell_type": "markdown",
   "metadata": {},
   "source": [
    "Assuming that our timezone is Eastern Standard in the US, then creating a post at 3:00 PM would give the highest chance to receive the most ammount of comments."
   ]
  }
 ],
 "metadata": {
  "kernelspec": {
   "display_name": "Python 3",
   "language": "python",
   "name": "python3"
  },
  "language_info": {
   "codemirror_mode": {
    "name": "ipython",
    "version": 3
   },
   "file_extension": ".py",
   "mimetype": "text/x-python",
   "name": "python",
   "nbconvert_exporter": "python",
   "pygments_lexer": "ipython3",
   "version": "3.4.3"
  }
 },
 "nbformat": 4,
 "nbformat_minor": 2
}
